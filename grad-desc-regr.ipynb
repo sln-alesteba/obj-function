{
 "cells": [
  {
   "cell_type": "markdown",
   "metadata": {},
   "source": [
    "The following are simple cells to execute gradient descent. The first example uses a one-parameter model to introduce the algorithm, while the second directly implements linear regression by optimizing the coefficients of the model. Finally, the concept of autograd is introduced through the PyTorch library."
   ]
  },
  {
   "cell_type": "markdown",
   "metadata": {},
   "source": [
    "### Random Dataset"
   ]
  },
  {
   "cell_type": "code",
   "execution_count": 22,
   "metadata": {},
   "outputs": [],
   "source": [
    "# simple data generation procedure:"
   ]
  },
  {
   "cell_type": "code",
   "execution_count": 23,
   "metadata": {},
   "outputs": [],
   "source": [
    "import numpy as np"
   ]
  },
  {
   "cell_type": "code",
   "execution_count": 24,
   "metadata": {},
   "outputs": [],
   "source": [
    "import matplotlib.pyplot as plt"
   ]
  },
  {
   "cell_type": "code",
   "execution_count": 25,
   "metadata": {},
   "outputs": [
    {
     "name": "stdout",
     "output_type": "stream",
     "text": [
      "Input Values :  [-0.5  -0.49]  Output Values :  [-0.53476584 -0.54486111]\n"
     ]
    },
    {
     "data": {
      "text/plain": [
       "<matplotlib.collections.PathCollection at 0x7355dfabf0d0>"
      ]
     },
     "execution_count": 25,
     "metadata": {},
     "output_type": "execute_result"
    },
    {
     "data": {
      "image/png": "[encoded data removed]",
      "text/plain": [
       "<Figure size 640x480 with 1 Axes>"
      ]
     },
     "metadata": {},
     "output_type": "display_data"
    }
   ],
   "source": [
    "# an array ranging from -0.5 to 0.5 (step of 0.01)\n",
    "inputX = np.arange(-0.5, 0.5, 0.01)\n",
    "\n",
    "# random values (normal distribution to add noise).\n",
    "noise = np.random.normal(0, 0.2, inputX.shape)\n",
    "\n",
    "# output values + noise.\n",
    "outputY = inputX+noise\n",
    "\n",
    "print(\"Input Values : \", inputX[:2], \" Output Values : \", outputY[:2])\n",
    "\n",
    "# scatter -> inputX, outputY\n",
    "plt.scatter(inputX, outputY, c=\"blue\", label=\"Dataset\")"
   ]
  },
  {
   "cell_type": "markdown",
   "metadata": {},
   "source": [
    "### Gradient Descent (partial derivative vector)"
   ]
  },
  {
   "cell_type": "code",
   "execution_count": 26,
   "metadata": {},
   "outputs": [],
   "source": [
    "# gradient descent with callback function for printing and storing values (for example)\n",
    "\n",
    "def gradient_descent(\n",
    "\n",
    "    gradient, x, y,\n",
    "    start,learn_rate=0.1, \n",
    "    n_iter=50, tolerance=1e-06,\n",
    "\n",
    "    callback = lambda x : print(x)\n",
    "):\n",
    "\n",
    "    vector = start\n",
    "\n",
    "    for _ in range(n_iter):\n",
    "\n",
    "        diff = -learn_rate * np.array(gradient(x, y, vector))\n",
    "\n",
    "        if np.all(np.abs(diff) <= tolerance):\n",
    "\n",
    "            break\n",
    "\n",
    "        vector += diff\n",
    "\n",
    "        callback(np.copy(vector))\n",
    "\n",
    "    return vector"
   ]
  },
  {
   "cell_type": "markdown",
   "metadata": {},
   "source": [
    "### Gradient Descent (one paramter model)"
   ]
  },
  {
   "cell_type": "markdown",
   "metadata": {},
   "source": [
    "\n",
    " \n",
    " The gradient is just a vector of (partial) derivatives of the loss function w.r.t the model parameters. Sounds complicated but it's not at all."
   ]
  },
  {
   "cell_type": "code",
   "execution_count": 27,
   "metadata": {},
   "outputs": [],
   "source": [
    "# the most simple model : wx_i (computing analytic derivative)"
   ]
  },
  {
   "cell_type": "markdown",
   "metadata": {},
   "source": [
    "$$\n",
    "f(w)=\\frac{1}{n}\\sum^{n}_{i=1}((wx_i)-y_i))^2\n",
    "$$\n",
    "\n",
    "$$\n",
    "\\frac{d}{dw}f(w)=\\frac{1}{n}\\sum^{n}_{i=1}2x_i(wx_i - y_i)\n",
    "$$"
   ]
  },
  {
   "cell_type": "markdown",
   "metadata": {},
   "source": [
    "Considerations for the algorithm:\n",
    "\n",
    "\n",
    "    - Which direction to move our parameter in to decrease loss (increase or decrease the value)\n",
    "\n",
    "    - How far to move it (deciding the amount to adjust it. For example by 0.1 or 2 or 50 )\n",
    "\n",
    "    - gradient actually points in the direction of steepest ascent. This is why gradient descent uses its negative value (to move in the direction of steepest descent)\n"
   ]
  },
  {
   "cell_type": "markdown",
   "metadata": {},
   "source": [
    "$$\n",
    "\n",
    "w_{new} = w - \\alpha \\times gradient\n",
    "\n",
    "$$\n",
    "\n",
    "$$\n",
    "\n",
    "w_{new} = w - \\alpha \\frac{d}{dw}f(w)\n",
    "\n",
    "$$"
   ]
  },
  {
   "cell_type": "code",
   "execution_count": 28,
   "metadata": {},
   "outputs": [
    {
     "data": {
      "text/plain": [
       "-0.07436152244822646"
      ]
     },
     "execution_count": 28,
     "metadata": {},
     "output_type": "execute_result"
    }
   ],
   "source": [
    "# in code:\n",
    "\n",
    "x = inputX\n",
    "y = outputY\n",
    "\n",
    "def gradient(x, y, w):\n",
    "    \n",
    "    return 2 * (x * (w * x - y)).mean()\n",
    "\n",
    "gradient(x, y, w=0.5)"
   ]
  },
  {
   "cell_type": "markdown",
   "metadata": {},
   "source": [
    "### Gradient Descent (two paramter model)"
   ]
  },
  {
   "cell_type": "markdown",
   "metadata": {},
   "source": [
    "$$f(w)=\\frac{1}{n}\\sum^{n}_{i=1}((w_0 + w_1x)-y_i))^2$$\n",
    "\n",
    "$$\\frac{\\partial{}}{\\partial{}w_0}f(w)=\\frac{1}{n}\\sum^{n}_{i=1}2((w_0 + w_1x) - y_i)$$\n",
    "\n",
    "$$\\frac{\\partial{}}{\\partial{}w_1}f(w)=\\frac{1}{n}\\sum^{n}_{i=1}2x_i((w_0 + w_1x) - y_i)$$"
   ]
  },
  {
   "cell_type": "code",
   "execution_count": 29,
   "metadata": {},
   "outputs": [],
   "source": [
    "weight = 0.1\n",
    "\n",
    "bias = 1.0\n",
    "\n",
    "def linear_regression_equation(input_value, weight, bias):\n",
    "\n",
    "    predicted_value = (weight * input_value) + bias\n",
    "    \n",
    "    return predicted_value\n"
   ]
  },
  {
   "cell_type": "code",
   "execution_count": 30,
   "metadata": {},
   "outputs": [
    {
     "data": {
      "text/plain": [
       "array([20.02036373, -0.17436152])"
      ]
     },
     "execution_count": 30,
     "metadata": {},
     "output_type": "execute_result"
    }
   ],
   "source": [
    "def gradient(x, y, w):\n",
    "    \n",
    "    grad_w0 = (1/len(x)) * 2 * sum(w[0] + w[1] * x - y)\n",
    "    grad_w1 = (1/len(x)) * 2 * sum(x * (w[0] + w[1] * x - y))\n",
    "    \n",
    "    return np.array([grad_w0, grad_w1])\n",
    "\n",
    "gradient(x, y, w=[10, 0.5])"
   ]
  },
  {
   "cell_type": "code",
   "execution_count": 31,
   "metadata": {},
   "outputs": [],
   "source": [
    "def cost_function(input_value, weight, bias, target_value):\n",
    "\n",
    "    c = 0\n",
    "\n",
    "    for i,t in zip(input_value, target_value):\n",
    "\n",
    "        predicted_value = linear_regression_equation(i, weight, bias)\n",
    "        \n",
    "        difference = (t - predicted_value)**2\n",
    "\n",
    "        c += difference\n",
    "\n",
    "    return c\n"
   ]
  },
  {
   "cell_type": "code",
   "execution_count": 32,
   "metadata": {},
   "outputs": [],
   "source": [
    "# execution of algorithm: "
   ]
  },
  {
   "cell_type": "code",
   "execution_count": 33,
   "metadata": {},
   "outputs": [],
   "source": [
    "# gradient descent with callback function for printing and storing values (for example)\n",
    "\n",
    "def gradient_descent(\n",
    "\n",
    "    gradient, x, y,\n",
    "    start,learn_rate=0.1, \n",
    "    n_iter=50, tolerance=1e-06,\n",
    "\n",
    "    callback = lambda x : print(x)\n",
    "):\n",
    "\n",
    "    vector = start\n",
    "\n",
    "    for _ in range(n_iter):\n",
    "\n",
    "        diff = -learn_rate * np.array(gradient(x, y, vector))\n",
    "\n",
    "        if np.all(np.abs(diff) <= tolerance):\n",
    "\n",
    "            break\n",
    "\n",
    "        vector += diff\n",
    "\n",
    "        callback(np.copy(vector))\n",
    "\n",
    "    return vector"
   ]
  },
  {
   "cell_type": "code",
   "execution_count": 35,
   "metadata": {},
   "outputs": [
    {
     "name": "stdout",
     "output_type": "stream",
     "text": [
      "[array([1.19758464, 1.00000301]), array([1.1951741, 1.000006 ]), array([1.19276839, 1.00000896]), array([1.19036749, 1.0000119 ]), array([1.18797139, 1.00001481]), array([1.18558009, 1.0000177 ]), array([1.18319356, 1.00002056]), array([1.18081181, 1.0000234 ]), array([1.17843482, 1.00002622]), array([1.17606259, 1.00002901])]\n"
     ]
    }
   ],
   "source": [
    "values = [] \n",
    "\n",
    "# execute gradient descent\n",
    "gradient_descent(\n",
    "    gradient, x, y, \n",
    "    start=[1.2, 1.0], learn_rate=0.001, n_iter=10,\n",
    "    callback = lambda x : values.append(x)\n",
    ")\n",
    "\n",
    "# print iteration values;\n",
    "print(values)"
   ]
  },
  {
   "cell_type": "markdown",
   "metadata": {},
   "source": [
    "### Automatic Differentiation"
   ]
  },
  {
   "cell_type": "code",
   "execution_count": null,
   "metadata": {},
   "outputs": [],
   "source": [
    "import torch\n",
    "import random"
   ]
  },
  {
   "cell_type": "code",
   "execution_count": 21,
   "metadata": {},
   "outputs": [
    {
     "name": "stdout",
     "output_type": "stream",
     "text": [
      "tensor(5.) tensor(1.)\n"
     ]
    }
   ],
   "source": [
    "x = torch.tensor(5.) # some data\n",
    "w = torch.tensor(4.,requires_grad=True) # weight ( slope )\n",
    "b = torch.tensor(2.,requires_grad=True) # bias (intercept)\n",
    "\n",
    "y = x*w + b # equation of linear regression\n",
    "y.backward() # variable to be differentiated\n",
    "\n",
    "print(w.grad,b.grad) # derivative of Y with respect to w and b"
   ]
  },
  {
   "cell_type": "code",
   "execution_count": 44,
   "metadata": {},
   "outputs": [],
   "source": [
    "def gradient_value_using_autograd_cal_wrapper(inputX, outputY, values):\n",
    "\n",
    "    w = torch.tensor(values[0], requires_grad=True) # wrapping weigh\n",
    "    b = torch.tensor(values[1], requires_grad=True) # and bias\n",
    "    n = len(inputX)\n",
    "\n",
    "    for x,y in zip(inputX, outputY):\n",
    "\n",
    "        predicted_value = (w * x) + b\n",
    "\n",
    "        loss = (y - predicted_value)**2\n",
    "        \n",
    "        loss.backward()\n",
    "\n",
    "    return ((w.grad/n), (b.grad/n))"
   ]
  },
  {
   "cell_type": "code",
   "execution_count": 45,
   "metadata": {},
   "outputs": [
    {
     "name": "stdout",
     "output_type": "stream",
     "text": [
      "[array([1.19996767, 0.99798664]), array([1.19993533, 0.9959773 ]), array([1.19990297, 0.99397198]), array([1.1998706 , 0.99197067]), array([1.19983821, 0.98997336]), array([1.19980581, 0.98798005]), array([1.19977339, 0.98599073]), array([1.19974096, 0.98400538]), array([1.19970852, 0.982024  ]), array([1.19967606, 0.98004659])]\n"
     ]
    }
   ],
   "source": [
    "values = [] \n",
    "\n",
    "# execute gradient descent\n",
    "gradient_descent(\n",
    "    # pytorch's automatic differentiation;\n",
    "    gradient_value_using_autograd_cal_wrapper, x, y, \n",
    "    start=[1.2, 1.0], learn_rate=0.001, n_iter=10,\n",
    "    callback = lambda x : values.append(x)\n",
    ")\n",
    "\n",
    "# print iteration values\n",
    "print(values)"
   ]
  }
 ],
 "metadata": {
  "kernelspec": {
   "display_name": "venv-grph",
   "language": "python",
   "name": "python3"
  },
  "language_info": {
   "codemirror_mode": {
    "name": "ipython",
    "version": 3
   },
   "file_extension": ".py",
   "mimetype": "text/x-python",
   "name": "python",
   "nbconvert_exporter": "python",
   "pygments_lexer": "ipython3",
   "version": "3.10.12"
  },
  "orig_nbformat": 4
 },
 "nbformat": 4,
 "nbformat_minor": 2
}
